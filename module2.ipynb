{
 "cells": [
  {
   "cell_type": "code",
   "execution_count": 4,
   "metadata": {
    "scrolled": true
   },
   "outputs": [
    {
     "name": "stdout",
     "output_type": "stream",
     "text": [
      "2 to the power of 0 is 1\n",
      "2 to the power of 1 is 2\n",
      "2 to the power of 2 is 4\n",
      "2 to the power of 3 is 8\n",
      "2 to the power of 4 is 16\n",
      "2 to the power of 5 is 32\n",
      "2 to the power of 6 is 64\n",
      "2 to the power of 7 is 128\n",
      "2 to the power of 8 is 256\n",
      "2 to the power of 9 is 512\n",
      "2 to the power of 10 is 1024\n",
      "2 to the power of 11 is 2048\n",
      "2 to the power of 12 is 4096\n",
      "2 to the power of 13 is 8192\n",
      "2 to the power of 14 is 16384\n",
      "2 to the power of 15 is 32768\n"
     ]
    }
   ],
   "source": [
    "#prints exponents in a range\n",
    "pow = 1\n",
    "for exp in range(16):\n",
    "    print(\"2 to the power of\", exp, \"is\", pow)\n",
    "    pow *= 2"
   ]
  },
  {
   "cell_type": "code",
   "execution_count": 9,
   "metadata": {},
   "outputs": [
    {
     "name": "stdout",
     "output_type": "stream",
     "text": [
      "The break instruction:\n",
      "Inside the loop. 1\n",
      "Inside the loop. 2\n",
      "Outside the loop.\n",
      "\n",
      "The continue instruction:\n",
      "Inside the loop. 1\n",
      "Inside the loop. 2\n",
      "Inside the loop. 4\n",
      "Inside the loop. 5\n",
      "Outside the loop.\n"
     ]
    }
   ],
   "source": [
    "# break - example\n",
    "print(\"The break instruction:\")\n",
    "for i in range(1, 6):    \n",
    "    if i == 3:        \n",
    "        break    \n",
    "    print(\"Inside the loop.\", i)\n",
    "print(\"Outside the loop.\")\n",
    "\n",
    "# continue - example\n",
    "print(\"\\nThe continue instruction:\")\n",
    "for i in range(1, 6):    \n",
    "    if i == 3:        \n",
    "        continue    \n",
    "    print(\"Inside the loop.\", i)\n",
    "print(\"Outside the loop.\")\n"
   ]
  },
  {
   "cell_type": "code",
   "execution_count": 3,
   "metadata": {
    "scrolled": true
   },
   "outputs": [
    {
     "name": "stdout",
     "output_type": "stream",
     "text": [
      "Enter a number or type -1 to end program: -1\n",
      "You haven't entered any number.\n"
     ]
    }
   ],
   "source": [
    "#usage of while and break\n",
    "largestNumber = -99999999\n",
    "counter = 0\n",
    "\n",
    "while True:\n",
    "    number = int(input(\"Enter a number or type -1 to end program: \"))\n",
    "    if number == -1:\n",
    "        break\n",
    "    counter += 1\n",
    "    if number > largestNumber:\n",
    "        largestNumber = number\n",
    "\n",
    "if counter != 0:\n",
    "    print(\"The largest number is\", largestNumber)\n",
    "else:\n",
    "    print(\"You haven't entered any number.\")"
   ]
  },
  {
   "cell_type": "code",
   "execution_count": 2,
   "metadata": {},
   "outputs": [
    {
     "name": "stdout",
     "output_type": "stream",
     "text": [
      "1 Mississippi\n",
      "2 Mississippi\n",
      "3 Mississippi\n",
      "4 Mississippi\n",
      "5 Mississippi\n",
      "Ready or not, here I come!\n"
     ]
    }
   ],
   "source": [
    "#usage of time module and range\n",
    "import time\n",
    "for second in range(1, 6):    \n",
    "    print(second, \"Mississippi\")    \n",
    "    time.sleep(1)    \n",
    "print(\"Ready or not, here I come!\")\n"
   ]
  },
  {
   "cell_type": "code",
   "execution_count": null,
   "metadata": {},
   "outputs": [],
   "source": [
    "#while loop and continue usage\n",
    "largestNumber = -99999999\n",
    "counter = 0\n",
    "\n",
    "number = int(input(\"Enter a number or type -1 to end program: \"))\n",
    "\n",
    "while number != -1:\n",
    "    if number == -1:\n",
    "        continue\n",
    "    counter += 1\n",
    "\n",
    "    if number > largestNumber:\n",
    "        largestNumber = number\n",
    "    number = int(input(\"Enter a number or type -1 to end program: \"))\n",
    "\n",
    "if counter:\n",
    "    print(\"The largest number is\", largestNumber)\n",
    "else:\n",
    "    print(\"You haven't entered any number.\")"
   ]
  },
  {
   "cell_type": "code",
   "execution_count": 1,
   "metadata": {
    "scrolled": true
   },
   "outputs": [
    {
     "name": "stdout",
     "output_type": "stream",
     "text": [
      "enter answer:answer\n",
      "checking... answer\n",
      "answer is correct\n"
     ]
    }
   ],
   "source": [
    "#while loop loop until answered\n",
    "while True:\n",
    "    word = input(\"enter answer: \")\n",
    "    print(\"checking...\",word)\n",
    "    if word == \"answer\":\n",
    "        break\n",
    "    print(word,\"is incorrect\")\n",
    "print(word,\"is correct\")"
   ]
  },
  {
   "cell_type": "code",
   "execution_count": 2,
   "metadata": {
    "scrolled": true
   },
   "outputs": [
    {
     "name": "stdout",
     "output_type": "stream",
     "text": [
      "Enter your word: lackluster\n",
      "LCKLSTR\n"
     ]
    }
   ],
   "source": [
    "#Removes vowels from a word\n",
    "wordWithoutVowels = \"\"\n",
    "userWord = input(\"Enter your word: \")\n",
    "userWord = userWord.upper()\n",
    "for letter in userWord:   \n",
    "    if letter == \"A\":        \n",
    "        continue    \n",
    "    elif letter == \"E\":       \n",
    "        continue    \n",
    "    elif letter == \"I\":       \n",
    "        continue   \n",
    "    elif letter == \"O\":        \n",
    "        continue   \n",
    "    elif letter == \"U\":        \n",
    "        continue    \n",
    "    else:       \n",
    "        wordWithoutVowels += letter      \n",
    "print(wordWithoutVowels)\n"
   ]
  },
  {
   "cell_type": "code",
   "execution_count": 6,
   "metadata": {},
   "outputs": [
    {
     "name": "stdout",
     "output_type": "stream",
     "text": [
      "1\n",
      "2\n",
      "3\n",
      "4\n",
      "else: 5\n",
      "0\n",
      "1\n",
      "2\n",
      "3\n",
      "4\n",
      "else: 5\n",
      "1\n",
      "2\n",
      "3\n",
      "4\n",
      "else: 5\n",
      "2\n",
      "3\n",
      "4\n",
      "else: 5\n",
      "3\n",
      "4\n",
      "else: 5\n",
      "4\n",
      "else: 5\n"
     ]
    }
   ],
   "source": [
    "#demontrates while and else usage\n",
    "i = 1\n",
    "while i < 5:    \n",
    "    print(i)    \n",
    "    i += 1\n",
    "else:    \n",
    "    print(\"else:\", i)\n",
    "\n",
    "i = 1\n",
    "#for and else usage\n",
    "for i in range(5):\n",
    "    print(i)\n",
    "else:\n",
    "    print(\"else:\", i)"
   ]
  },
  {
   "cell_type": "code",
   "execution_count": null,
   "metadata": {},
   "outputs": [],
   "source": [
    "#counts blocks of pyramid\n",
    "blocks = int(input(\"Enter the number of blocks: \"))\n",
    "\n",
    "height = 0\n",
    "inlayer = 1\n",
    "while inlayer <= blocks:\n",
    "    height += 1\n",
    "    blocks -= inlayer\n",
    "    inlayer += 1\n",
    "\n",
    "print(\"The height of the pyramid:\", height)"
   ]
  },
  {
   "cell_type": "code",
   "execution_count": 1,
   "metadata": {
    "scrolled": true
   },
   "outputs": [
    {
     "name": "stdout",
     "output_type": "stream",
     "text": [
      "Enter c0: 987\n",
      "987\n",
      "2962\n",
      "1481\n",
      "4444\n",
      "2222\n",
      "1111\n",
      "3334\n",
      "1667\n",
      "5002\n",
      "2501\n",
      "7504\n",
      "3752\n",
      "1876\n",
      "938\n",
      "469\n",
      "1408\n",
      "704\n",
      "352\n",
      "176\n",
      "88\n",
      "44\n",
      "22\n",
      "11\n",
      "34\n",
      "17\n",
      "52\n",
      "26\n",
      "13\n",
      "40\n",
      "20\n",
      "10\n",
      "5\n",
      "16\n",
      "8\n",
      "4\n",
      "2\n",
      "steps = 36\n"
     ]
    }
   ],
   "source": [
    "# Walther Collatz mathematical hypothesis\n",
    "c0 = int(input(\"Enter c0: \"))\n",
    "\n",
    "if c0 > 1:\n",
    "\tsteps = 0\n",
    "\twhile c0 != 1:\n",
    "\t\tif c0 %2 != 0:\n",
    "\t\t\tcnew = 3 * c0 + 1\n",
    "\t\telse:\n",
    "\t\t\tcnew = c0 // 2\n",
    "\t\tprint(c0)\n",
    "\t\tc0 = cnew\n",
    "\t\tsteps += 1\n",
    "\tprint(\"steps =\",steps)\n",
    "else:\n",
    "\tprint(\"Bad c0 value\")"
   ]
  },
  {
   "cell_type": "code",
   "execution_count": 1,
   "metadata": {},
   "outputs": [
    {
     "name": "stdout",
     "output_type": "stream",
     "text": [
      "1\n",
      "3\n",
      "5\n",
      "7\n",
      "9\n",
      "1\n",
      "3\n",
      "5\n",
      "7\n",
      "9\n"
     ]
    }
   ],
   "source": [
    "#for loop to print odd numbers\n",
    "for i in range(0, 11):\n",
    "    if i % 2 != 0:\n",
    "        print(i)\n",
    "#while loop to print odd numbers\n",
    "x = 1\n",
    "while x < 11:\n",
    "    if x % 2 != 0:\n",
    "        print(x)\n",
    "    x += 1"
   ]
  },
  {
   "cell_type": "code",
   "execution_count": null,
   "metadata": {},
   "outputs": [],
   "source": [
    "#for loop finds @ and prints everything before it\n",
    "for ch in \"john.smith@pythoninstitute.org\":\n",
    "    if ch == \"@\":\n",
    "        break\n",
    "    print(ch, end=\"\")"
   ]
  },
  {
   "cell_type": "code",
   "execution_count": null,
   "metadata": {},
   "outputs": [],
   "source": [
    "#for loop finds and replaces 0 with x in a string\n",
    "for digit in \"0165031806510\":\n",
    "    if digit == \"0\":\n",
    "        print(\"x\", end=\"\")\n",
    "        continue\n",
    "    print(digit, end=\"\")"
   ]
  },
  {
   "cell_type": "code",
   "execution_count": null,
   "metadata": {},
   "outputs": [],
   "source": [
    "#while countdown\n",
    "n = 3\n",
    "\n",
    "while n > 0:\n",
    "    print(n + 1)\n",
    "    n -= 1\n",
    "else:\n",
    "    print(n)\n",
    "    \n",
    "#for countdown\n",
    "n = range(4)\n",
    "\n",
    "for num in n:\n",
    "    print(num - 1)\n",
    "else:\n",
    "    print(num)\n"
   ]
  },
  {
   "cell_type": "code",
   "execution_count": null,
   "metadata": {},
   "outputs": [],
   "source": []
  }
 ],
 "metadata": {
  "kernelspec": {
   "display_name": "Python 3",
   "language": "python",
   "name": "python3"
  },
  "language_info": {
   "codemirror_mode": {
    "name": "ipython",
    "version": 3
   },
   "file_extension": ".py",
   "mimetype": "text/x-python",
   "name": "python",
   "nbconvert_exporter": "python",
   "pygments_lexer": "ipython3",
   "version": "3.7.1"
  }
 },
 "nbformat": 4,
 "nbformat_minor": 2
}
